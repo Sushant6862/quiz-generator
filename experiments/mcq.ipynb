{
 "cells": [
  {
   "cell_type": "code",
   "execution_count": 1,
   "metadata": {},
   "outputs": [],
   "source": [
    "from langchain.llms import OpenAI\n",
    "from langchain.chat_models import ChatOpenAI\n",
    "from langchain.prompts import PromptTemplate\n",
    "from langchain.chains import LLMChain\n",
    "from langchain.chains import SequentialChain\n",
    "from langchain.callbacks import get_openai_callback\n",
    "from langchain_groq import ChatGroq\n",
    "import os\n",
    "import json\n",
    "import pandas as pd\n",
    "import traceback\n",
    "from dotenv import load_dotenv\n",
    "import PyPDF2"
   ]
  },
  {
   "cell_type": "code",
   "execution_count": 2,
   "metadata": {},
   "outputs": [
    {
     "data": {
      "text/plain": [
       "True"
      ]
     },
     "execution_count": 2,
     "metadata": {},
     "output_type": "execute_result"
    }
   ],
   "source": [
    "load_dotenv()"
   ]
  },
  {
   "cell_type": "code",
   "execution_count": 3,
   "metadata": {},
   "outputs": [],
   "source": [
    "key = os.getenv(\"mykey\")"
   ]
  },
  {
   "cell_type": "code",
   "execution_count": 5,
   "metadata": {},
   "outputs": [],
   "source": [
    "llm = ChatGroq(api_key=key,model = \"gemma-7b-it\",temperature=0.3)"
   ]
  },
  {
   "cell_type": "code",
   "execution_count": 6,
   "metadata": {},
   "outputs": [],
   "source": [
    "RESPONSE_JSON = {\n",
    "    \"1\": {\n",
    "        \"mcq\": \"multiple choice question\",\n",
    "        \"options\": {\n",
    "            \"a\": \"choice here\",\n",
    "            \"b\": \"choice here\",\n",
    "            \"c\": \"choice here\",\n",
    "            \"d\": \"choice here\",\n",
    "        },\n",
    "        \"correct\": \"correct answer\",\n",
    "    },\n",
    "    \"2\": {\n",
    "        \"mcq\": \"multiple choice question\",\n",
    "        \"options\": {\n",
    "            \"a\": \"choice here\",\n",
    "            \"b\": \"choice here\",\n",
    "            \"c\": \"choice here\",\n",
    "            \"d\": \"choice here\",\n",
    "        },\n",
    "        \"correct\": \"correct answer\",\n",
    "    },\n",
    "    \"3\": {\n",
    "        \"mcq\": \"multiple choice question\",\n",
    "        \"options\": {\n",
    "            \"a\": \"choice here\",\n",
    "            \"b\": \"choice here\",\n",
    "            \"c\": \"choice here\",\n",
    "            \"d\": \"choice here\",\n",
    "        },\n",
    "        \"correct\": \"correct answer\",\n",
    "    },\n",
    "}"
   ]
  },
  {
   "cell_type": "code",
   "execution_count": 7,
   "metadata": {},
   "outputs": [
    {
     "data": {
      "text/plain": [
       "'\\nnumber=5 \\nsubject=\"data science\"\\ntone=\"simple\"\\n'"
      ]
     },
     "execution_count": 7,
     "metadata": {},
     "output_type": "execute_result"
    }
   ],
   "source": [
    "\"\"\"\n",
    "number=5 \n",
    "subject=\"data science\"\n",
    "tone=\"simple\"\n",
    "\"\"\""
   ]
  },
  {
   "cell_type": "code",
   "execution_count": 8,
   "metadata": {},
   "outputs": [],
   "source": [
    "TEMPLATE=\"\"\"\n",
    "Text:{text}\n",
    "You are an expert MCQ maker. Given the above text, it is your job to \\\n",
    "create a quiz  of {number} multiple choice questions for {subject} students in {tone} tone. \n",
    "Make sure the questions are not repeated and check all the questions to be conforming the text as well.\n",
    "Make sure to format your response like  RESPONSE_JSON below  and use it as a guide. \\\n",
    "Ensure to make {number} MCQs\n",
    "### RESPONSE_JSON\n",
    "{response_json}\n",
    "\n",
    "\"\"\""
   ]
  },
  {
   "cell_type": "code",
   "execution_count": 9,
   "metadata": {},
   "outputs": [],
   "source": [
    "quiz_generation_prompt = PromptTemplate(\n",
    "    input_variables=[\"text\", \"number\", \"subject\", \"tone\", \"response_json\"],\n",
    "    template=TEMPLATE\n",
    "    )"
   ]
  },
  {
   "cell_type": "code",
   "execution_count": 10,
   "metadata": {},
   "outputs": [
    {
     "data": {
      "text/plain": [
       "PromptTemplate(input_variables=['number', 'response_json', 'subject', 'text', 'tone'], template='\\nText:{text}\\nYou are an expert MCQ maker. Given the above text, it is your job to create a quiz  of {number} multiple choice questions for {subject} students in {tone} tone. \\nMake sure the questions are not repeated and check all the questions to be conforming the text as well.\\nMake sure to format your response like  RESPONSE_JSON below  and use it as a guide. Ensure to make {number} MCQs\\n### RESPONSE_JSON\\n{response_json}\\n\\n')"
      ]
     },
     "execution_count": 10,
     "metadata": {},
     "output_type": "execute_result"
    }
   ],
   "source": [
    "quiz_generation_prompt"
   ]
  },
  {
   "cell_type": "code",
   "execution_count": 11,
   "metadata": {},
   "outputs": [
    {
     "name": "stderr",
     "output_type": "stream",
     "text": [
      "d:\\mcqgen\\env\\Lib\\site-packages\\langchain_core\\_api\\deprecation.py:141: LangChainDeprecationWarning: The class `LLMChain` was deprecated in LangChain 0.1.17 and will be removed in 1.0. Use RunnableSequence, e.g., `prompt | llm` instead.\n",
      "  warn_deprecated(\n"
     ]
    }
   ],
   "source": [
    "quiz_chain=LLMChain(llm=llm, prompt=quiz_generation_prompt, output_key=\"quiz\", verbose=True)"
   ]
  },
  {
   "cell_type": "code",
   "execution_count": 12,
   "metadata": {},
   "outputs": [
    {
     "data": {
      "text/plain": [
       "LLMChain(verbose=True, prompt=PromptTemplate(input_variables=['number', 'response_json', 'subject', 'text', 'tone'], template='\\nText:{text}\\nYou are an expert MCQ maker. Given the above text, it is your job to create a quiz  of {number} multiple choice questions for {subject} students in {tone} tone. \\nMake sure the questions are not repeated and check all the questions to be conforming the text as well.\\nMake sure to format your response like  RESPONSE_JSON below  and use it as a guide. Ensure to make {number} MCQs\\n### RESPONSE_JSON\\n{response_json}\\n\\n'), llm=ChatGroq(client=<groq.resources.chat.completions.Completions object at 0x0000021CCE760AA0>, async_client=<groq.resources.chat.completions.AsyncCompletions object at 0x0000021CCE761460>, model_name='gemma-7b-it', temperature=0.3, groq_api_key=SecretStr('**********')), output_key='quiz')"
      ]
     },
     "execution_count": 12,
     "metadata": {},
     "output_type": "execute_result"
    }
   ],
   "source": [
    "quiz_chain"
   ]
  },
  {
   "cell_type": "code",
   "execution_count": 13,
   "metadata": {},
   "outputs": [],
   "source": [
    "TEMPLATE=\"\"\"\n",
    "You are an expert english grammarian and writer. Given a Multiple Choice Quiz for {subject} students.\\\n",
    "You need to evaluate the complexity of the question and give a complete analysis of the quiz. Only use at max 50 words for complexity analysis. \n",
    "if the quiz is not at per with the cognitive and analytical abilities of the students,\\\n",
    "update the quiz questions which needs to be changed and change the tone such that it perfectly fits the student abilities\n",
    "Quiz_MCQs:\n",
    "{quiz}\n",
    "\n",
    "Check from an expert English Writer of the above quiz:\n",
    "\"\"\""
   ]
  },
  {
   "cell_type": "code",
   "execution_count": 14,
   "metadata": {},
   "outputs": [],
   "source": [
    "quiz_evaluation_prompt=PromptTemplate(input_variables=[\"subject\", \"quiz\"], template=TEMPLATE)"
   ]
  },
  {
   "cell_type": "code",
   "execution_count": 15,
   "metadata": {},
   "outputs": [],
   "source": [
    "review_chain=LLMChain(llm=llm, prompt=quiz_evaluation_prompt, output_key=\"review\", verbose=True)"
   ]
  },
  {
   "cell_type": "code",
   "execution_count": 16,
   "metadata": {},
   "outputs": [],
   "source": [
    "generate_evaluate_chain=SequentialChain(chains=[quiz_chain, review_chain], input_variables=[\"text\", \"number\", \"subject\", \"tone\", \"response_json\"],\n",
    "   output_variables=[\"quiz\", \"review\"], verbose=True,)"
   ]
  },
  {
   "cell_type": "code",
   "execution_count": 17,
   "metadata": {},
   "outputs": [],
   "source": [
    "# \"\"\"pdf_reader=PyPDF2.PdfReader(r\"C:\\Complete_Content\\All_Project\\TEST_FOR_EVERYTHING\\langchain\\experiments\\Big Data Assessment.pdf\")\n",
    "# text = \"\"\n",
    "# for page in pdf_reader.pages:\n",
    "#     text += page.extract_text()\""
   ]
  },
  {
   "cell_type": "code",
   "execution_count": 18,
   "metadata": {},
   "outputs": [],
   "source": [
    "from pathlib import Path\n",
    "file_path=r\"D:\\mcqgen\\data.txt\""
   ]
  },
  {
   "cell_type": "code",
   "execution_count": 19,
   "metadata": {},
   "outputs": [
    {
     "data": {
      "text/plain": [
       "'D:\\\\mcqgen\\\\data.txt'"
      ]
     },
     "execution_count": 19,
     "metadata": {},
     "output_type": "execute_result"
    }
   ],
   "source": [
    "file_path"
   ]
  },
  {
   "cell_type": "code",
   "execution_count": 20,
   "metadata": {},
   "outputs": [],
   "source": [
    "with open(file_path, 'r') as file:\n",
    "    TEXT = file.read()"
   ]
  },
  {
   "cell_type": "code",
   "execution_count": 21,
   "metadata": {},
   "outputs": [
    {
     "data": {
      "text/plain": [
       "'Data science is an interdisciplinary academic field[1] that uses statistics, scientific computing, scientific methods, processes, algorithms and systems to extract or extrapolate knowledge and insights from noisy, structured, and unstructured data.[2]\\n\\nData science also integrates domain knowledge from the underlying application domain (e.g., natural sciences, information technology, and medicine).[3] Data science is multifaceted and can be described as a science, a research paradigm, a research method, a discipline, a workflow, and a profession.[4]\\n\\nData science is a \"concept to unify statistics, data analysis, informatics, and their related methods\" to \"understand and analyze actual phenomena\" with data.[5] It uses techniques and theories drawn from many fields within the context of mathematics, statistics, computer science, information science, and domain knowledge.[6] However, data science is different from computer science and information science. Turing Award winner Jim Gray imagined data science as a \"fourth paradigm\" of science (empirical, theoretical, computational, and now data-driven) and asserted that \"everything about science is changing because of the impact of information technology\" and the data deluge.[7][8]\\n\\nA data scientist is a professional who creates programming code and combines it with statistical knowledge to create insights from data.[9]\\n\\nFoundations\\nData science is an interdisciplinary field[10] focused on extracting knowledge from typically large data sets and applying the knowledge and insights from that data to solve problems in a wide range of application domains. The field encompasses preparing data for analysis, formulating data science problems, analyzing data, developing data-driven solutions, and presenting findings to inform high-level decisions in a broad range of application domains. As such, it incorporates skills from computer science, statistics, information science, mathematics, data visualization, information visualization, data sonification, data integration, graphic design, complex systems, communication and business.[11][12] Statistician Nathan Yau, drawing on Ben Fry, also links data science to humanâ€“computer interaction: users should be able to intuitively control and explore data.[13][14] In 2015, the American Statistical Association identified database management, statistics and machine learning, and distributed and parallel systems as the three emerging foundational professional communities.[15]'"
      ]
     },
     "execution_count": 21,
     "metadata": {},
     "output_type": "execute_result"
    }
   ],
   "source": [
    "TEXT"
   ]
  },
  {
   "cell_type": "code",
   "execution_count": 22,
   "metadata": {},
   "outputs": [
    {
     "data": {
      "text/plain": [
       "'{\"1\": {\"mcq\": \"multiple choice question\", \"options\": {\"a\": \"choice here\", \"b\": \"choice here\", \"c\": \"choice here\", \"d\": \"choice here\"}, \"correct\": \"correct answer\"}, \"2\": {\"mcq\": \"multiple choice question\", \"options\": {\"a\": \"choice here\", \"b\": \"choice here\", \"c\": \"choice here\", \"d\": \"choice here\"}, \"correct\": \"correct answer\"}, \"3\": {\"mcq\": \"multiple choice question\", \"options\": {\"a\": \"choice here\", \"b\": \"choice here\", \"c\": \"choice here\", \"d\": \"choice here\"}, \"correct\": \"correct answer\"}}'"
      ]
     },
     "execution_count": 22,
     "metadata": {},
     "output_type": "execute_result"
    }
   ],
   "source": [
    "# Serialize the Python dictionary into a JSON-formatted string\n",
    "json.dumps(RESPONSE_JSON)"
   ]
  },
  {
   "cell_type": "code",
   "execution_count": 23,
   "metadata": {},
   "outputs": [
    {
     "data": {
      "text/plain": [
       "'mcq_count=5\\ngrade=1\\ntone=\"simple'"
      ]
     },
     "execution_count": 23,
     "metadata": {},
     "output_type": "execute_result"
    }
   ],
   "source": [
    "\"\"\"mcq_count=5\n",
    "grade=1\n",
    "tone=\"simple\"\"\""
   ]
  },
  {
   "cell_type": "code",
   "execution_count": 24,
   "metadata": {},
   "outputs": [],
   "source": [
    "NUMBER=4\n",
    "SUBJECT=\"machine learning\"\n",
    "TONE=\"simple\""
   ]
  },
  {
   "cell_type": "code",
   "execution_count": 25,
   "metadata": {},
   "outputs": [
    {
     "name": "stderr",
     "output_type": "stream",
     "text": [
      "d:\\mcqgen\\env\\Lib\\site-packages\\langchain_core\\_api\\deprecation.py:141: LangChainDeprecationWarning: The method `Chain.__call__` was deprecated in langchain 0.1.0 and will be removed in 1.0. Use invoke instead.\n",
      "  warn_deprecated(\n"
     ]
    },
    {
     "name": "stdout",
     "output_type": "stream",
     "text": [
      "\n",
      "\n",
      "\u001b[1m> Entering new SequentialChain chain...\u001b[0m\n",
      "\n",
      "\n",
      "\u001b[1m> Entering new LLMChain chain...\u001b[0m\n",
      "Prompt after formatting:\n",
      "\u001b[32;1m\u001b[1;3m\n",
      "Text:Data science is an interdisciplinary academic field[1] that uses statistics, scientific computing, scientific methods, processes, algorithms and systems to extract or extrapolate knowledge and insights from noisy, structured, and unstructured data.[2]\n",
      "\n",
      "Data science also integrates domain knowledge from the underlying application domain (e.g., natural sciences, information technology, and medicine).[3] Data science is multifaceted and can be described as a science, a research paradigm, a research method, a discipline, a workflow, and a profession.[4]\n",
      "\n",
      "Data science is a \"concept to unify statistics, data analysis, informatics, and their related methods\" to \"understand and analyze actual phenomena\" with data.[5] It uses techniques and theories drawn from many fields within the context of mathematics, statistics, computer science, information science, and domain knowledge.[6] However, data science is different from computer science and information science. Turing Award winner Jim Gray imagined data science as a \"fourth paradigm\" of science (empirical, theoretical, computational, and now data-driven) and asserted that \"everything about science is changing because of the impact of information technology\" and the data deluge.[7][8]\n",
      "\n",
      "A data scientist is a professional who creates programming code and combines it with statistical knowledge to create insights from data.[9]\n",
      "\n",
      "Foundations\n",
      "Data science is an interdisciplinary field[10] focused on extracting knowledge from typically large data sets and applying the knowledge and insights from that data to solve problems in a wide range of application domains. The field encompasses preparing data for analysis, formulating data science problems, analyzing data, developing data-driven solutions, and presenting findings to inform high-level decisions in a broad range of application domains. As such, it incorporates skills from computer science, statistics, information science, mathematics, data visualization, information visualization, data sonification, data integration, graphic design, complex systems, communication and business.[11][12] Statistician Nathan Yau, drawing on Ben Fry, also links data science to humanâ€“computer interaction: users should be able to intuitively control and explore data.[13][14] In 2015, the American Statistical Association identified database management, statistics and machine learning, and distributed and parallel systems as the three emerging foundational professional communities.[15]\n",
      "You are an expert MCQ maker. Given the above text, it is your job to create a quiz  of 4 multiple choice questions for machine learning students in simple tone. \n",
      "Make sure the questions are not repeated and check all the questions to be conforming the text as well.\n",
      "Make sure to format your response like  RESPONSE_JSON below  and use it as a guide. Ensure to make 4 MCQs\n",
      "### RESPONSE_JSON\n",
      "{\"1\": {\"mcq\": \"multiple choice question\", \"options\": {\"a\": \"choice here\", \"b\": \"choice here\", \"c\": \"choice here\", \"d\": \"choice here\"}, \"correct\": \"correct answer\"}, \"2\": {\"mcq\": \"multiple choice question\", \"options\": {\"a\": \"choice here\", \"b\": \"choice here\", \"c\": \"choice here\", \"d\": \"choice here\"}, \"correct\": \"correct answer\"}, \"3\": {\"mcq\": \"multiple choice question\", \"options\": {\"a\": \"choice here\", \"b\": \"choice here\", \"c\": \"choice here\", \"d\": \"choice here\"}, \"correct\": \"correct answer\"}}\n",
      "\n",
      "\u001b[0m\n",
      "\n",
      "\u001b[1m> Finished chain.\u001b[0m\n",
      "\n",
      "\n",
      "\u001b[1m> Entering new LLMChain chain...\u001b[0m\n",
      "Prompt after formatting:\n",
      "\u001b[32;1m\u001b[1;3m\n",
      "You are an expert english grammarian and writer. Given a Multiple Choice Quiz for machine learning students.You need to evaluate the complexity of the question and give a complete analysis of the quiz. Only use at max 50 words for complexity analysis. \n",
      "if the quiz is not at per with the cognitive and analytical abilities of the students,update the quiz questions which needs to be changed and change the tone such that it perfectly fits the student abilities\n",
      "Quiz_MCQs:\n",
      "### RESPONSE_JSON\n",
      "{\n",
      "\"1\": {\n",
      "\"mcq\": \"What is the primary focus of data science?\",\n",
      "\"options\": {\n",
      "\"a\": \"Developing computer programs\",\n",
      "\"b\": \"Extracting knowledge from data\",\n",
      "\"c\": \"Designing databases\",\n",
      "\"d\": \"Building complex algorithms\",\n",
      "},\n",
      "\"correct\": \"b\"\n",
      "},\n",
      "\"2\": {\n",
      "\"mcq\": \"Which of the following is not a component of data science?\",\n",
      "\"options\": {\n",
      "\"a\": \"Statistics\",\n",
      "\"b\": \"Philosophy\",\n",
      "\"c\": \"Algorithms\",\n",
      "\"d\": \"Data visualization\",\n",
      "},\n",
      "\"correct\": \"b\"\n",
      "},\n",
      "\"3\": {\n",
      "\"mcq\": \"Who imagined data science as a 'fourth paradigm' of science?\",\n",
      "\"options\": {\n",
      "\"a\": \"Turing Award winner Jim Gray\",\n",
      "\"b\": \"Statistician Nathan Yau\",\n",
      "\"c\": \"Ben Fry\",\n",
      "\"d\": \"American Statistical Association\",\n",
      "},\n",
      "\"correct\": \"a\"\n",
      "},\n",
      "\"4\": {\n",
      "\"mcq\": \"What is the role of a data scientist?\",\n",
      "\"options\": {\n",
      "\"a\": \"Creating programming code\",\n",
      "\"b\": \"Combining programming code with statistical knowledge\",\n",
      "\"c\": \"Presenting findings to clients\",\n",
      "\"d\": \"Developing complex algorithms\",\n",
      "},\n",
      "\"correct\": \"b\"\n",
      "}\n",
      "}\n",
      "\n",
      "Check from an expert English Writer of the above quiz:\n",
      "\u001b[0m\n",
      "\n",
      "\u001b[1m> Finished chain.\u001b[0m\n",
      "\n",
      "\u001b[1m> Finished chain.\u001b[0m\n"
     ]
    }
   ],
   "source": [
    "#https://python.langchain.com/docs/modules/model_io/llms/token_usage_tracking\n",
    "\n",
    "#How to setup Token Usage Tracking in LangChain\n",
    "with get_openai_callback() as cb:\n",
    "    response=generate_evaluate_chain(\n",
    "        {\n",
    "            \"text\": TEXT,\n",
    "            \"number\": NUMBER,\n",
    "            \"subject\":SUBJECT,\n",
    "            \"tone\": TONE,\n",
    "            \"response_json\": json.dumps(RESPONSE_JSON)\n",
    "        }\n",
    "        )"
   ]
  },
  {
   "cell_type": "code",
   "execution_count": 26,
   "metadata": {},
   "outputs": [
    {
     "name": "stdout",
     "output_type": "stream",
     "text": [
      "Total Tokens:1636\n",
      "Prompt Tokens:1145\n",
      "Completion Tokens:491\n",
      "Total Cost:0.0\n"
     ]
    }
   ],
   "source": [
    "print(f\"Total Tokens:{cb.total_tokens}\")\n",
    "print(f\"Prompt Tokens:{cb.prompt_tokens}\")\n",
    "print(f\"Completion Tokens:{cb.completion_tokens}\")\n",
    "print(f\"Total Cost:{cb.total_cost}\")"
   ]
  },
  {
   "cell_type": "code",
   "execution_count": 27,
   "metadata": {},
   "outputs": [
    {
     "data": {
      "text/plain": [
       "{'text': 'Data science is an interdisciplinary academic field[1] that uses statistics, scientific computing, scientific methods, processes, algorithms and systems to extract or extrapolate knowledge and insights from noisy, structured, and unstructured data.[2]\\n\\nData science also integrates domain knowledge from the underlying application domain (e.g., natural sciences, information technology, and medicine).[3] Data science is multifaceted and can be described as a science, a research paradigm, a research method, a discipline, a workflow, and a profession.[4]\\n\\nData science is a \"concept to unify statistics, data analysis, informatics, and their related methods\" to \"understand and analyze actual phenomena\" with data.[5] It uses techniques and theories drawn from many fields within the context of mathematics, statistics, computer science, information science, and domain knowledge.[6] However, data science is different from computer science and information science. Turing Award winner Jim Gray imagined data science as a \"fourth paradigm\" of science (empirical, theoretical, computational, and now data-driven) and asserted that \"everything about science is changing because of the impact of information technology\" and the data deluge.[7][8]\\n\\nA data scientist is a professional who creates programming code and combines it with statistical knowledge to create insights from data.[9]\\n\\nFoundations\\nData science is an interdisciplinary field[10] focused on extracting knowledge from typically large data sets and applying the knowledge and insights from that data to solve problems in a wide range of application domains. The field encompasses preparing data for analysis, formulating data science problems, analyzing data, developing data-driven solutions, and presenting findings to inform high-level decisions in a broad range of application domains. As such, it incorporates skills from computer science, statistics, information science, mathematics, data visualization, information visualization, data sonification, data integration, graphic design, complex systems, communication and business.[11][12] Statistician Nathan Yau, drawing on Ben Fry, also links data science to humanâ€“computer interaction: users should be able to intuitively control and explore data.[13][14] In 2015, the American Statistical Association identified database management, statistics and machine learning, and distributed and parallel systems as the three emerging foundational professional communities.[15]',\n",
       " 'number': 4,\n",
       " 'subject': 'machine learning',\n",
       " 'tone': 'simple',\n",
       " 'response_json': '{\"1\": {\"mcq\": \"multiple choice question\", \"options\": {\"a\": \"choice here\", \"b\": \"choice here\", \"c\": \"choice here\", \"d\": \"choice here\"}, \"correct\": \"correct answer\"}, \"2\": {\"mcq\": \"multiple choice question\", \"options\": {\"a\": \"choice here\", \"b\": \"choice here\", \"c\": \"choice here\", \"d\": \"choice here\"}, \"correct\": \"correct answer\"}, \"3\": {\"mcq\": \"multiple choice question\", \"options\": {\"a\": \"choice here\", \"b\": \"choice here\", \"c\": \"choice here\", \"d\": \"choice here\"}, \"correct\": \"correct answer\"}}',\n",
       " 'quiz': '### RESPONSE_JSON\\n{\\n\"1\": {\\n\"mcq\": \"What is the primary focus of data science?\",\\n\"options\": {\\n\"a\": \"Developing computer programs\",\\n\"b\": \"Extracting knowledge from data\",\\n\"c\": \"Designing databases\",\\n\"d\": \"Building complex algorithms\",\\n},\\n\"correct\": \"b\"\\n},\\n\"2\": {\\n\"mcq\": \"Which of the following is not a component of data science?\",\\n\"options\": {\\n\"a\": \"Statistics\",\\n\"b\": \"Philosophy\",\\n\"c\": \"Algorithms\",\\n\"d\": \"Data visualization\",\\n},\\n\"correct\": \"b\"\\n},\\n\"3\": {\\n\"mcq\": \"Who imagined data science as a \\'fourth paradigm\\' of science?\",\\n\"options\": {\\n\"a\": \"Turing Award winner Jim Gray\",\\n\"b\": \"Statistician Nathan Yau\",\\n\"c\": \"Ben Fry\",\\n\"d\": \"American Statistical Association\",\\n},\\n\"correct\": \"a\"\\n},\\n\"4\": {\\n\"mcq\": \"What is the role of a data scientist?\",\\n\"options\": {\\n\"a\": \"Creating programming code\",\\n\"b\": \"Combining programming code with statistical knowledge\",\\n\"c\": \"Presenting findings to clients\",\\n\"d\": \"Developing complex algorithms\",\\n},\\n\"correct\": \"b\"\\n}\\n}',\n",
       " 'review': '## Complexity Analysis:\\n\\nThe quiz questions exhibit varying levels of complexity:\\n\\n- **Question 1 & 4:** Relatively straightforward, requiring basic understanding of data science\\'s applications.\\n- **Question 2:** Requires familiarity with the broader field of study and its components.\\n- **Question 3:** Requires knowledge of the origin and philosophical underpinnings of data science.\\n\\n**Recommendations:**\\n\\n- **Question 2:** Consider replacing \"Philosophy\" with more relevant options like \"Machine Learning theory\" or \"Data analysis methodologies.\"\\n- **Question 3:** Provide more context or clarify the intended meaning of \"fourth paradigm.\"\\n- **Question 4:** Expand the options to include aspects of data collection, analysis, and interpretation.\\n\\n**Overall:** The quiz could benefit from offering a wider range of complexity levels and ensuring clarity in terminology to better assess the students\\' understanding of data science concepts.'}"
      ]
     },
     "execution_count": 27,
     "metadata": {},
     "output_type": "execute_result"
    }
   ],
   "source": [
    "response"
   ]
  },
  {
   "cell_type": "code",
   "execution_count": 28,
   "metadata": {},
   "outputs": [],
   "source": [
    "quiz_str=response.get(\"quiz\")"
   ]
  },
  {
   "cell_type": "code",
   "execution_count": 35,
   "metadata": {},
   "outputs": [
    {
     "data": {
      "text/plain": [
       "'### RESPONSE_JSON\\n{\\n\"1\": {\\n\"mcq\": \"What is the primary focus of data science?\",\\n\"options\": {\\n\"a\": \"Developing computer programs\",\\n\"b\": \"Extracting knowledge from data\",\\n\"c\": \"Designing databases\",\\n\"d\": \"Building complex algorithms\",\\n},\\n\"correct\": \"b\"\\n},\\n\"2\": {\\n\"mcq\": \"Which of the following is not a component of data science?\",\\n\"options\": {\\n\"a\": \"Statistics\",\\n\"b\": \"Philosophy\",\\n\"c\": \"Algorithms\",\\n\"d\": \"Data visualization\",\\n},\\n\"correct\": \"b\"\\n},\\n\"3\": {\\n\"mcq\": \"Who imagined data science as a \\'fourth paradigm\\' of science?\",\\n\"options\": {\\n\"a\": \"Turing Award winner Jim Gray\",\\n\"b\": \"Statistician Nathan Yau\",\\n\"c\": \"Ben Fry\",\\n\"d\": \"American Statistical Association\",\\n},\\n\"correct\": \"a\"\\n},\\n\"4\": {\\n\"mcq\": \"What is the role of a data scientist?\",\\n\"options\": {\\n\"a\": \"Creating programming code\",\\n\"b\": \"Combining programming code with statistical knowledge\",\\n\"c\": \"Presenting findings to clients\",\\n\"d\": \"Developing complex algorithms\",\\n},\\n\"correct\": \"b\"\\n}\\n}'"
      ]
     },
     "execution_count": 35,
     "metadata": {},
     "output_type": "execute_result"
    }
   ],
   "source": [
    "quiz_str"
   ]
  },
  {
   "cell_type": "code",
   "execution_count": 29,
   "metadata": {},
   "outputs": [
    {
     "name": "stdout",
     "output_type": "stream",
     "text": [
      "### RESPONSE_JSON\n",
      "{\n",
      "\"1\": {\n",
      "\"mcq\": \"What is the primary focus of data science?\",\n",
      "\"options\": {\n",
      "\"a\": \"Developing computer programs\",\n",
      "\"b\": \"Extracting knowledge from data\",\n",
      "\"c\": \"Designing databases\",\n",
      "\"d\": \"Building complex algorithms\",\n",
      "},\n",
      "\"correct\": \"b\"\n",
      "},\n",
      "\"2\": {\n",
      "\"mcq\": \"Which of the following is not a component of data science?\",\n",
      "\"options\": {\n",
      "\"a\": \"Statistics\",\n",
      "\"b\": \"Philosophy\",\n",
      "\"c\": \"Algorithms\",\n",
      "\"d\": \"Data visualization\",\n",
      "},\n",
      "\"correct\": \"b\"\n",
      "},\n",
      "\"3\": {\n",
      "\"mcq\": \"Who imagined data science as a 'fourth paradigm' of science?\",\n",
      "\"options\": {\n",
      "\"a\": \"Turing Award winner Jim Gray\",\n",
      "\"b\": \"Statistician Nathan Yau\",\n",
      "\"c\": \"Ben Fry\",\n",
      "\"d\": \"American Statistical Association\",\n",
      "},\n",
      "\"correct\": \"a\"\n",
      "},\n",
      "\"4\": {\n",
      "\"mcq\": \"What is the role of a data scientist?\",\n",
      "\"options\": {\n",
      "\"a\": \"Creating programming code\",\n",
      "\"b\": \"Combining programming code with statistical knowledge\",\n",
      "\"c\": \"Presenting findings to clients\",\n",
      "\"d\": \"Developing complex algorithms\",\n",
      "},\n",
      "\"correct\": \"b\"\n",
      "}\n",
      "}\n"
     ]
    }
   ],
   "source": [
    "print(quiz_str)"
   ]
  },
  {
   "cell_type": "code",
   "execution_count": 31,
   "metadata": {},
   "outputs": [],
   "source": [
    "# quiz_dict = json.loads(quiz_str)"
   ]
  },
  {
   "cell_type": "code",
   "execution_count": 36,
   "metadata": {},
   "outputs": [
    {
     "name": "stdout",
     "output_type": "stream",
     "text": [
      "{1: {'correct': 'b',\n",
      "     'mcq': 'What is the primary focus of data science?',\n",
      "     'options': {'a': 'Developing computer programs',\n",
      "                 'b': 'Extracting knowledge from data',\n",
      "                 'c': 'Designing databases',\n",
      "                 'd': 'Building complex algorithms'}},\n",
      " 2: {'correct': 'b',\n",
      "     'mcq': 'Which of the following is not a component of data science?',\n",
      "     'options': {'a': 'Statistics',\n",
      "                 'b': 'Philosophy',\n",
      "                 'c': 'Algorithms',\n",
      "                 'd': 'Data visualization'}},\n",
      " 3: {'correct': 'a',\n",
      "     'mcq': \"Who imagined data science as a 'fourth paradigm' of science?\",\n",
      "     'options': {'a': 'Turing Award winner Jim Gray',\n",
      "                 'b': 'Statistician Nathan Yau',\n",
      "                 'c': 'Ben Fry',\n",
      "                 'd': 'American Statistical Association'}},\n",
      " 4: {'correct': 'b',\n",
      "     'mcq': 'What is the role of a data scientist?',\n",
      "     'options': {'a': 'Creating programming code',\n",
      "                 'b': 'Combining programming code with statistical knowledge',\n",
      "                 'c': 'Presenting findings to clients',\n",
      "                 'd': 'Developing complex algorithms'}}}\n"
     ]
    }
   ],
   "source": [
    "# response_str = '''### RESPONSE_JSON\n",
    "# {\n",
    "# \"1\": {\n",
    "# \"mcq\": \"What is the primary focus of data science?\",\n",
    "# \"options\": {\n",
    "# \"a\": \"Developing computer programs\",\n",
    "# \"b\": \"Extracting knowledge from data\",\n",
    "# \"c\": \"Designing databases\",\n",
    "# \"d\": \"Building complex algorithms\"\n",
    "# },\n",
    "# \"correct\": \"b\"\n",
    "# },\n",
    "# \"2\": {\n",
    "# \"mcq\": \"Which of the following is not a component of data science?\",\n",
    "# \"options\": {\n",
    "# \"a\": \"Statistics\",\n",
    "# \"b\": \"Philosophy\",\n",
    "# \"c\": \"Algorithms\",\n",
    "# \"d\": \"Data visualization\"\n",
    "# },\n",
    "# \"correct\": \"b\"\n",
    "# },\n",
    "# \"3\": {\n",
    "# \"mcq\": \"Who imagined data science as a 'fourth paradigm' of science?\",\n",
    "# \"options\": {\n",
    "# \"a\": \"Turing Award winner Jim Gray\",\n",
    "# \"b\": \"Statistician Nathan Yau\",\n",
    "# \"c\": \"Ben Fry\",\n",
    "# \"d\": \"American Statistical Association\"\n",
    "# },\n",
    "# \"correct\": \"a\"\n",
    "# },\n",
    "# \"4\": {\n",
    "# \"mcq\": \"What is the role of a data scientist?\",\n",
    "# \"options\": {\n",
    "# \"a\": \"Creating programming code\",\n",
    "# \"b\": \"Combining programming code with statistical knowledge\",\n",
    "# \"c\": \"Presenting findings to clients\",\n",
    "# \"d\": \"Developing complex algorithms\"\n",
    "# },\n",
    "# \"correct\": \"b\"\n",
    "# }\n",
    "# }'''\n",
    "\n",
    "# Step 1: Split the string into lines\n",
    "lines = quiz_str.splitlines()\n",
    "\n",
    "# Step 2: Initialize variables\n",
    "mcq_dict = {}\n",
    "current_mcq = {}\n",
    "current_question = None\n",
    "\n",
    "# Step 3: Loop through the lines and extract information\n",
    "for line in lines:\n",
    "    line = line.strip()\n",
    "    \n",
    "    if line.startswith('\"mcq\":'):\n",
    "        current_question = line.split(':', 1)[1].strip().strip('\",')\n",
    "        current_mcq['mcq'] = current_question\n",
    "        \n",
    "    elif line.startswith('\"options\":'):\n",
    "        current_mcq['options'] = {}\n",
    "    \n",
    "    elif '\"a\":' in line or '\"b\":' in line or '\"c\":' in line or '\"d\":' in line:\n",
    "        option_key, option_value = line.split(':', 1)\n",
    "        option_key = option_key.strip().strip('\",')\n",
    "        option_value = option_value.strip().strip('\",')\n",
    "        current_mcq['options'][option_key] = option_value\n",
    "    \n",
    "    elif line.startswith('\"correct\":'):\n",
    "        correct_answer = line.split(':', 1)[1].strip().strip('\",')\n",
    "        current_mcq['correct'] = correct_answer\n",
    "        mcq_dict[len(mcq_dict) + 1] = current_mcq\n",
    "        current_mcq = {}\n",
    "\n",
    "# Step 4: Output the structured data\n",
    "import pprint\n",
    "pprint.pprint(mcq_dict)\n"
   ]
  },
  {
   "cell_type": "code",
   "execution_count": 39,
   "metadata": {},
   "outputs": [
    {
     "data": {
      "text/plain": [
       "{1: {'mcq': 'What is the primary focus of data science?',\n",
       "  'options': {'a': 'Developing computer programs',\n",
       "   'b': 'Extracting knowledge from data',\n",
       "   'c': 'Designing databases',\n",
       "   'd': 'Building complex algorithms'},\n",
       "  'correct': 'b'},\n",
       " 2: {'mcq': 'Which of the following is not a component of data science?',\n",
       "  'options': {'a': 'Statistics',\n",
       "   'b': 'Philosophy',\n",
       "   'c': 'Algorithms',\n",
       "   'd': 'Data visualization'},\n",
       "  'correct': 'b'},\n",
       " 3: {'mcq': \"Who imagined data science as a 'fourth paradigm' of science?\",\n",
       "  'options': {'a': 'Turing Award winner Jim Gray',\n",
       "   'b': 'Statistician Nathan Yau',\n",
       "   'c': 'Ben Fry',\n",
       "   'd': 'American Statistical Association'},\n",
       "  'correct': 'a'},\n",
       " 4: {'mcq': 'What is the role of a data scientist?',\n",
       "  'options': {'a': 'Creating programming code',\n",
       "   'b': 'Combining programming code with statistical knowledge',\n",
       "   'c': 'Presenting findings to clients',\n",
       "   'd': 'Developing complex algorithms'},\n",
       "  'correct': 'b'}}"
      ]
     },
     "execution_count": 39,
     "metadata": {},
     "output_type": "execute_result"
    }
   ],
   "source": [
    "mcq_dict"
   ]
  },
  {
   "cell_type": "code",
   "execution_count": 42,
   "metadata": {},
   "outputs": [
    {
     "data": {
      "text/plain": [
       "dict"
      ]
     },
     "execution_count": 42,
     "metadata": {},
     "output_type": "execute_result"
    }
   ],
   "source": [
    "type(mcq_dict)"
   ]
  },
  {
   "cell_type": "code",
   "execution_count": 43,
   "metadata": {},
   "outputs": [
    {
     "data": {
      "text/plain": [
       "dict_keys([1, 2, 3, 4])"
      ]
     },
     "execution_count": 43,
     "metadata": {},
     "output_type": "execute_result"
    }
   ],
   "source": [
    "mcq_dict.keys()"
   ]
  },
  {
   "cell_type": "code",
   "execution_count": 44,
   "metadata": {},
   "outputs": [],
   "source": [
    "def create_mcq_dataframe(mcqs):\n",
    "    flattened_data = []\n",
    "    for num, mcq in mcqs.items():\n",
    "        row = {\n",
    "            'question_number': num,\n",
    "            'question': mcq['mcq'],  # Update to access 'mcq' instead of 'question'\n",
    "            'correct_answer': mcq['correct']  # Update to access 'correct' instead of 'correct_answer'\n",
    "        }\n",
    "        for option, text in mcq['options'].items():\n",
    "            row[f'option_{option}'] = text\n",
    "        flattened_data.append(row)\n",
    "    \n",
    "    return pd.DataFrame(flattened_data)"
   ]
  },
  {
   "cell_type": "code",
   "execution_count": 46,
   "metadata": {},
   "outputs": [],
   "source": [
    "df = create_mcq_dataframe(mcq_dict)\n"
   ]
  },
  {
   "cell_type": "code",
   "execution_count": 47,
   "metadata": {},
   "outputs": [
    {
     "data": {
      "text/html": [
       "<div>\n",
       "<style scoped>\n",
       "    .dataframe tbody tr th:only-of-type {\n",
       "        vertical-align: middle;\n",
       "    }\n",
       "\n",
       "    .dataframe tbody tr th {\n",
       "        vertical-align: top;\n",
       "    }\n",
       "\n",
       "    .dataframe thead th {\n",
       "        text-align: right;\n",
       "    }\n",
       "</style>\n",
       "<table border=\"1\" class=\"dataframe\">\n",
       "  <thead>\n",
       "    <tr style=\"text-align: right;\">\n",
       "      <th></th>\n",
       "      <th>question_number</th>\n",
       "      <th>question</th>\n",
       "      <th>correct_answer</th>\n",
       "      <th>option_a</th>\n",
       "      <th>option_b</th>\n",
       "      <th>option_c</th>\n",
       "      <th>option_d</th>\n",
       "    </tr>\n",
       "  </thead>\n",
       "  <tbody>\n",
       "    <tr>\n",
       "      <th>0</th>\n",
       "      <td>1</td>\n",
       "      <td>What is the primary focus of data science?</td>\n",
       "      <td>b</td>\n",
       "      <td>Developing computer programs</td>\n",
       "      <td>Extracting knowledge from data</td>\n",
       "      <td>Designing databases</td>\n",
       "      <td>Building complex algorithms</td>\n",
       "    </tr>\n",
       "    <tr>\n",
       "      <th>1</th>\n",
       "      <td>2</td>\n",
       "      <td>Which of the following is not a component of d...</td>\n",
       "      <td>b</td>\n",
       "      <td>Statistics</td>\n",
       "      <td>Philosophy</td>\n",
       "      <td>Algorithms</td>\n",
       "      <td>Data visualization</td>\n",
       "    </tr>\n",
       "    <tr>\n",
       "      <th>2</th>\n",
       "      <td>3</td>\n",
       "      <td>Who imagined data science as a 'fourth paradig...</td>\n",
       "      <td>a</td>\n",
       "      <td>Turing Award winner Jim Gray</td>\n",
       "      <td>Statistician Nathan Yau</td>\n",
       "      <td>Ben Fry</td>\n",
       "      <td>American Statistical Association</td>\n",
       "    </tr>\n",
       "    <tr>\n",
       "      <th>3</th>\n",
       "      <td>4</td>\n",
       "      <td>What is the role of a data scientist?</td>\n",
       "      <td>b</td>\n",
       "      <td>Creating programming code</td>\n",
       "      <td>Combining programming code with statistical kn...</td>\n",
       "      <td>Presenting findings to clients</td>\n",
       "      <td>Developing complex algorithms</td>\n",
       "    </tr>\n",
       "  </tbody>\n",
       "</table>\n",
       "</div>"
      ],
      "text/plain": [
       "   question_number                                           question  \\\n",
       "0                1         What is the primary focus of data science?   \n",
       "1                2  Which of the following is not a component of d...   \n",
       "2                3  Who imagined data science as a 'fourth paradig...   \n",
       "3                4              What is the role of a data scientist?   \n",
       "\n",
       "  correct_answer                      option_a  \\\n",
       "0              b  Developing computer programs   \n",
       "1              b                    Statistics   \n",
       "2              a  Turing Award winner Jim Gray   \n",
       "3              b     Creating programming code   \n",
       "\n",
       "                                            option_b  \\\n",
       "0                     Extracting knowledge from data   \n",
       "1                                         Philosophy   \n",
       "2                            Statistician Nathan Yau   \n",
       "3  Combining programming code with statistical kn...   \n",
       "\n",
       "                         option_c                          option_d  \n",
       "0             Designing databases       Building complex algorithms  \n",
       "1                      Algorithms                Data visualization  \n",
       "2                         Ben Fry  American Statistical Association  \n",
       "3  Presenting findings to clients     Developing complex algorithms  "
      ]
     },
     "execution_count": 47,
     "metadata": {},
     "output_type": "execute_result"
    }
   ],
   "source": [
    "df"
   ]
  },
  {
   "cell_type": "code",
   "execution_count": 48,
   "metadata": {},
   "outputs": [],
   "source": [
    "df.to_csv(\"machine learning_Quiz.csv\",index=False)"
   ]
  },
  {
   "cell_type": "code",
   "execution_count": null,
   "metadata": {},
   "outputs": [],
   "source": []
  }
 ],
 "metadata": {
  "kernelspec": {
   "display_name": "env",
   "language": "python",
   "name": "python3"
  },
  "language_info": {
   "codemirror_mode": {
    "name": "ipython",
    "version": 3
   },
   "file_extension": ".py",
   "mimetype": "text/x-python",
   "name": "python",
   "nbconvert_exporter": "python",
   "pygments_lexer": "ipython3",
   "version": "3.12.4"
  }
 },
 "nbformat": 4,
 "nbformat_minor": 2
}
